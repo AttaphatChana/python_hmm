{
 "cells": [
  {
   "cell_type": "code",
   "id": "initial_id",
   "metadata": {
    "collapsed": true,
    "ExecuteTime": {
     "end_time": "2024-12-25T21:53:19.427291Z",
     "start_time": "2024-12-25T21:53:19.162971Z"
    }
   },
   "source": [
    "import random\n",
    "from operator import itemgetter\n",
    "\n",
    "\n",
    "class HMM:\n",
    "    def __init__(self, A:list[list[int]], b:list[list[int]], pi:list[int]):\n",
    "        self.O = None\n",
    "        self.A = A\n",
    "        self.B = b\n",
    "        self.pi = pi\n",
    "        self.mem = {}\n",
    "        self.mem2 = {}\n",
    "        if len(A) != len(b):\n",
    "            raise ValueError(\"A and B must have same length\")\n",
    "        if len(A) != len(pi):\n",
    "            raise ValueError(\"A and pi must have same length\")\n",
    "        \n",
    "        \n",
    "        \n",
    "    def observe_seq(self,O):\n",
    "        self.O = O\n",
    "    def _alpha(self,t, j):\n",
    "        A = self.A\n",
    "        B = self.B\n",
    "        pi = self.pi\n",
    "        mem = self.mem\n",
    "        O = self.O\n",
    "        if (t,j) in mem:\n",
    "            return mem[t,j]\n",
    "        if t == 0:\n",
    "            return pi[j]*B[j][O[t]]\n",
    "        previous = 0\n",
    "        for i in range(len(A)):\n",
    "            previous += self._alpha(t - 1, i) * A[i][j]\n",
    "        mem[t,j] = B[j][O[t]]* previous\n",
    "        return mem[t,j]\n",
    "    \n",
    "    def _beta(self,t,i):\n",
    "        A = self.A\n",
    "        B = self.B\n",
    "        \n",
    "        mem2 = self.mem2\n",
    "        O = self.O\n",
    "        forward = 0\n",
    "        if t == len(O)-1:\n",
    "            return 1\n",
    "        if (t,i) in mem2:\n",
    "            return mem2[t,i]\n",
    "        for j in range(len(A)):\n",
    "           forward+= A[i][j]*B[j][O[t+1]]*self._beta(t+1,j)\n",
    "        mem2[t,i] = forward\n",
    "        return mem2[t,i]\n",
    "        \n",
    "    \n",
    "    def prob(self):\n",
    "        O = self.O\n",
    "        return sum([self._alpha(len(O)-1,i) for i in range(len(self.A))])\n",
    "    \n",
    "    def _viterbi(self,T,N):\n",
    "        A = self.A\n",
    "        B = self.B\n",
    "        pi = self.pi\n",
    "        O = self.O\n",
    "        p_star = 1\n",
    "        v_0 = max([(pi[i]*B[i][O[0]],i) for i in range(N)], key=itemgetter(0))\n",
    "        i = v_0[1]\n",
    "        v_path = [i]\n",
    "        p_star = p_star*v_0[0]\n",
    "        for t in range(1, T):\n",
    "            v = max([(B[j][O[t]]*A[i][j],j) for j in range(N)],key=itemgetter(0))\n",
    "            p_star = p_star * v[0]\n",
    "            i = v[1]\n",
    "            v_path.append(i)\n",
    "        return p_star,v_path\n",
    "    \n",
    "    def viterbi(self):\n",
    "        return self._viterbi(len(self.O),len(self.A))\n",
    "    \n",
    "    \n",
    "    def _delta(self,t):\n",
    "        A = self.A\n",
    "        B = self.B\n",
    "        pi = self.pi\n",
    "        O = self.O\n",
    "        def exp(i,j):\n",
    "            normalize = sum([self._alpha(t,k)*self._beta(t,k) for k in range(len(A))])\n",
    "            return self._alpha(t,i)*A[i][j]*B[j][O[t+1]]*self._beta(t+1,j)/normalize\n",
    "        return exp\n",
    "\n",
    "    def _gamma(self,t):\n",
    "        A = self.A\n",
    "        def exp(i):\n",
    "            normalize = sum([self._alpha(t,k)*self._beta(t,k) for k in range(len(A))])\n",
    "            return self._alpha(t,i)*self._beta(t,i)/normalize\n",
    "        return exp\n",
    "    \n",
    "    def train(self,acc):\n",
    "        A = [[0 for _ in range(len(self.A))] for _ in range(len(self.A))]\n",
    "        B = [[0 for _ in range(len(self.B[0]))] for _ in range(len(self.B))]\n",
    "        for _ in range(acc):\n",
    "            for i in range(len(self.A)):\n",
    "                for j in range(len(self.A)):\n",
    "                    A[i][j] = sum([ self._delta(t)(i,j) for t in range(len(self.O)-1)])/sum([ self._delta(t)(i,k) for t in range(len(self.O)-1) for k in range(len(self.A))])\n",
    "                for k in range(len(self.B[0])):\n",
    "                    B[i][k] = sum([self._gamma(t)(i) for t in range(len(self.O)) if self.O[t] == k])/sum([self._gamma(t)(i) for t in range(len(self.O))])\n",
    "            self.A = A\n",
    "            self.B = B\n",
    "        return A,B\n",
    "                    \n",
    "            \n",
    "        \n",
    "        \n",
    "        \n",
    "        \n",
    "        "
   ],
   "outputs": [],
   "execution_count": 27
  },
  {
   "metadata": {
    "ExecuteTime": {
     "end_time": "2024-12-25T21:55:52.692836Z",
     "start_time": "2024-12-25T21:55:52.593303Z"
    }
   },
   "cell_type": "code",
   "source": [
    "\n",
    "A = [[0.1,0.3,0.6],[0.2,0.5,0.3],[0.4,0.2,0.4]]\n",
    "B = [[0.4,0.6],[0.5,0.5],[0.2,0.8]] \n",
    "pi = [0.5,0.3,0.2]\n",
    "O = [0,1,0,0,1,0,0,1,0,1,0,1]\n",
    "hmm = HMM(A,B,pi)\n",
    "hmm.observe_seq(O)\n",
    "print(\"## testing P(O)\")\n",
    "print(hmm.prob())\n",
    "print(\"## testing viterbi\")\n",
    "v = hmm.viterbi()\n",
    "print(v[0])\n",
    "print(v[1])"
   ],
   "id": "2bf43f353b07e838",
   "outputs": [
    {
     "name": "stdout",
     "output_type": "stream",
     "text": [
      "## testing P(O)\n",
      "8.077974035903289e-05\n",
      "## testing viterbi\n",
      "3.515625000000001e-08\n",
      "[0, 2, 0, 1, 1, 1, 1, 1, 1, 1, 1, 1]\n"
     ]
    }
   ],
   "execution_count": 31
  },
  {
   "metadata": {},
   "cell_type": "code",
   "outputs": [],
   "execution_count": null,
   "source": [
    "def sim(n):\n",
    "    perm = set()\n",
    "    \n",
    "    for _ in range(n):\n",
    "        l = list()\n",
    "        for i in range(len(O)):\n",
    "            r = random.randint(0,2)\n",
    "        \n",
    "    \n",
    "        "
   ],
   "id": "1e65cc16e63cf44d"
  },
  {
   "metadata": {},
   "cell_type": "code",
   "outputs": [
    {
     "name": "stdout",
     "output_type": "stream",
     "text": [
      "## testing baum-welch\n",
      "[[0.32800449664385867, 0.6714835803817238, 5.414174816976404e-08], [0.34624506048235515, 0.6532721864758627, 4.0233272299906945e-09], [0.9697798089810754, 0.030197652150573167, 9.575059153722309e-19]]\n",
      "[[0.7276285198324156, 0.27237148016758406], [0.6617012622752778, 0.3382987377247221], [0.3766675235413749, 0.6233324764586252]]\n",
      "## testing P(O)\n",
      "8.077974035903289e-05\n",
      "## testing viterbi\n",
      "1.2862650289398964e-06\n",
      "[0, 1, 1, 1, 1, 1, 1, 1, 1, 1, 1, 1]\n"
     ]
    }
   ],
   "execution_count": 29,
   "source": [
    "print(\"## testing baum-welch\")\n",
    "A,B = hmm.train(100)\n",
    "print(A)\n",
    "print(B)\n",
    "print(\"## testing P(O)\")\n",
    "print(hmm.prob())\n",
    "print(\"## testing viterbi\")\n",
    "v = hmm.viterbi()\n",
    "print(v[0])\n",
    "print(v[1])\n"
   ],
   "id": "387f4cbe40c9ebf2"
  },
  {
   "metadata": {},
   "cell_type": "code",
   "source": "",
   "id": "5fd0f6bb709d6cd1",
   "outputs": [],
   "execution_count": null
  }
 ],
 "metadata": {
  "kernelspec": {
   "display_name": "Python 3",
   "language": "python",
   "name": "python3"
  },
  "language_info": {
   "codemirror_mode": {
    "name": "ipython",
    "version": 2
   },
   "file_extension": ".py",
   "mimetype": "text/x-python",
   "name": "python",
   "nbconvert_exporter": "python",
   "pygments_lexer": "ipython2",
   "version": "2.7.6"
  }
 },
 "nbformat": 4,
 "nbformat_minor": 5
}
